{
  "cells": [
    {
      "cell_type": "markdown",
      "metadata": {
        "id": "view-in-github",
        "colab_type": "text"
      },
      "source": [
        "<a href=\"https://colab.research.google.com/github/sofzcc/lab-m-shots/blob/main/lab-m-shots.ipynb\" target=\"_parent\"><img src=\"https://colab.research.google.com/assets/colab-badge.svg\" alt=\"Open In Colab\"/></a>"
      ]
    },
    {
      "cell_type": "markdown",
      "id": "24b19fff-8f42-4e9f-a73e-00cff106805a",
      "metadata": {
        "id": "24b19fff-8f42-4e9f-a73e-00cff106805a"
      },
      "source": [
        "# M-Shots Learning"
      ]
    },
    {
      "cell_type": "markdown",
      "id": "34723a72-1601-4685-a0ba-bff544425d48",
      "metadata": {
        "id": "34723a72-1601-4685-a0ba-bff544425d48"
      },
      "source": [
        "In this notebook, we'll explore small prompt engineering techniques and recommendations that will help us elicit responses from the models that are better suited to our needs."
      ]
    },
    {
      "cell_type": "code",
      "execution_count": 41,
      "id": "fba193cc-d8a0-4ad2-8177-380204426859",
      "metadata": {
        "id": "fba193cc-d8a0-4ad2-8177-380204426859",
        "outputId": "dc1e6eac-5e22-4dcb-8e78-c83e63cf1aba",
        "colab": {
          "base_uri": "https://localhost:8080/",
          "height": 17
        }
      },
      "outputs": [
        {
          "output_type": "display_data",
          "data": {
            "text/plain": [
              "<IPython.core.display.HTML object>"
            ],
            "text/html": [
              "\n",
              "  <style>\n",
              "    pre {\n",
              "        white-space: pre-wrap;\n",
              "    }\n",
              "  </style>\n",
              "  "
            ]
          },
          "metadata": {}
        },
        {
          "output_type": "display_data",
          "data": {
            "text/plain": [
              "<IPython.core.display.HTML object>"
            ],
            "text/html": [
              "\n",
              "  <style>\n",
              "    pre {\n",
              "        white-space: pre-wrap;\n",
              "    }\n",
              "  </style>\n",
              "  "
            ]
          },
          "metadata": {}
        },
        {
          "output_type": "display_data",
          "data": {
            "text/plain": [
              "<IPython.core.display.HTML object>"
            ],
            "text/html": [
              "\n",
              "  <style>\n",
              "    pre {\n",
              "        white-space: pre-wrap;\n",
              "    }\n",
              "  </style>\n",
              "  "
            ]
          },
          "metadata": {}
        }
      ],
      "source": [
        "#!pip install --quiet openai\n",
        "from openai import OpenAI\n",
        "import os\n",
        "\n",
        "#from dotenv import load_dotenv, find_dotenv\n",
        "#_ = load_dotenv(find_dotenv()) # read local .env file\n",
        "\n",
        "#OPENAI_API_KEY  = os.getenv('OPENAI_API_KEY')\n",
        "from google.colab import userdata\n",
        "OPENAI_API_KEY = userdata.get('OPENAI_API_KEY_Ironhack')\n"
      ]
    },
    {
      "cell_type": "markdown",
      "id": "502cfc93-21e0-498f-9650-37bc6ddd514d",
      "metadata": {
        "id": "502cfc93-21e0-498f-9650-37bc6ddd514d"
      },
      "source": [
        "# Formatting the answer with Few Shot Samples.\n",
        "\n",
        "To obtain the model's response in a specific format, we have various options, but one of the most convenient is to use Few-Shot Samples. This involves presenting the model with pairs of user queries and example responses.\n",
        "\n",
        "Large models like GPT-3.5 respond well to the examples provided, adapting their response to the specified format.\n",
        "\n",
        "Depending on the number of examples given, this technique can be referred to as:\n",
        "* Zero-Shot.\n",
        "* One-Shot.\n",
        "* Few-Shots.\n",
        "\n",
        "With One Shot should be enough, and it is recommended to use a maximum of six shots. It's important to remember that this information is passed in each query and occupies space in the input prompt.\n",
        "\n"
      ]
    },
    {
      "cell_type": "code",
      "execution_count": 42,
      "id": "a8344712-06d7-4c24-83d8-f36d62926e5e",
      "metadata": {
        "id": "a8344712-06d7-4c24-83d8-f36d62926e5e",
        "outputId": "7fc20b9b-f8fb-4b60-b1bc-d7c3e52c1107",
        "colab": {
          "base_uri": "https://localhost:8080/",
          "height": 17
        }
      },
      "outputs": [
        {
          "output_type": "display_data",
          "data": {
            "text/plain": [
              "<IPython.core.display.HTML object>"
            ],
            "text/html": [
              "\n",
              "  <style>\n",
              "    pre {\n",
              "        white-space: pre-wrap;\n",
              "    }\n",
              "  </style>\n",
              "  "
            ]
          },
          "metadata": {}
        },
        {
          "output_type": "display_data",
          "data": {
            "text/plain": [
              "<IPython.core.display.HTML object>"
            ],
            "text/html": [
              "\n",
              "  <style>\n",
              "    pre {\n",
              "        white-space: pre-wrap;\n",
              "    }\n",
              "  </style>\n",
              "  "
            ]
          },
          "metadata": {}
        },
        {
          "output_type": "display_data",
          "data": {
            "text/plain": [
              "<IPython.core.display.HTML object>"
            ],
            "text/html": [
              "\n",
              "  <style>\n",
              "    pre {\n",
              "        white-space: pre-wrap;\n",
              "    }\n",
              "  </style>\n",
              "  "
            ]
          },
          "metadata": {}
        }
      ],
      "source": [
        "# Function to call the model.\n",
        "def return_OAIResponse(user_message, context):\n",
        "    client = OpenAI(\n",
        "    # This is the default and can be omitted\n",
        "    api_key=OPENAI_API_KEY,\n",
        ")\n",
        "\n",
        "    newcontext = context.copy()\n",
        "    newcontext.append({'role':'user', 'content':\"question: \" + user_message})\n",
        "\n",
        "    response = client.chat.completions.create(\n",
        "            model=\"gpt-3.5-turbo\",\n",
        "            messages=newcontext,\n",
        "            temperature=1,\n",
        "        )\n",
        "\n",
        "    return (response.choices[0].message.content)"
      ]
    },
    {
      "cell_type": "markdown",
      "id": "f611d73d-9330-466d-b705-543667e1b561",
      "metadata": {
        "id": "f611d73d-9330-466d-b705-543667e1b561"
      },
      "source": [
        "In this zero-shots prompt we obtain a correct response, but without formatting, as the model incorporates the information he wants."
      ]
    },
    {
      "cell_type": "code",
      "execution_count": 43,
      "id": "647790be-fdb8-4692-a82e-7e3a0220f72a",
      "metadata": {
        "colab": {
          "base_uri": "https://localhost:8080/",
          "height": 53
        },
        "id": "647790be-fdb8-4692-a82e-7e3a0220f72a",
        "outputId": "fc4aaa3d-756f-45db-d1f8-90a145ec29e5"
      },
      "outputs": [
        {
          "output_type": "display_data",
          "data": {
            "text/plain": [
              "<IPython.core.display.HTML object>"
            ],
            "text/html": [
              "\n",
              "  <style>\n",
              "    pre {\n",
              "        white-space: pre-wrap;\n",
              "    }\n",
              "  </style>\n",
              "  "
            ]
          },
          "metadata": {}
        },
        {
          "output_type": "display_data",
          "data": {
            "text/plain": [
              "<IPython.core.display.HTML object>"
            ],
            "text/html": [
              "\n",
              "  <style>\n",
              "    pre {\n",
              "        white-space: pre-wrap;\n",
              "    }\n",
              "  </style>\n",
              "  "
            ]
          },
          "metadata": {}
        },
        {
          "output_type": "display_data",
          "data": {
            "text/plain": [
              "<IPython.core.display.HTML object>"
            ],
            "text/html": [
              "\n",
              "  <style>\n",
              "    pre {\n",
              "        white-space: pre-wrap;\n",
              "    }\n",
              "  </style>\n",
              "  "
            ]
          },
          "metadata": {}
        },
        {
          "output_type": "stream",
          "name": "stdout",
          "text": [
            "Sebastian Vettel won the F1 World Championship in 2010 driving for the Red Bull Racing team. He secured his first World Championship title at the age of 23, becoming the youngest world champion in F1 history at that time.\n"
          ]
        }
      ],
      "source": [
        "#zero-shot\n",
        "context_user = [\n",
        "    {'role':'system', 'content':'You are an expert in F1.'}\n",
        "]\n",
        "print(return_OAIResponse(\"Who won the F1 2010?\", context_user))"
      ]
    },
    {
      "cell_type": "markdown",
      "id": "e87a9a0a-c1b9-4759-b52f-f6547d29b4c8",
      "metadata": {
        "id": "e87a9a0a-c1b9-4759-b52f-f6547d29b4c8"
      },
      "source": [
        "For a model as large and good as GPT 3.5, a single shot is enough to learn the output format we expect.\n"
      ]
    },
    {
      "cell_type": "code",
      "execution_count": 44,
      "id": "33ac7693-6cf3-44f7-b2ff-55d8a36fe775",
      "metadata": {
        "colab": {
          "base_uri": "https://localhost:8080/",
          "height": 53
        },
        "id": "33ac7693-6cf3-44f7-b2ff-55d8a36fe775",
        "outputId": "252a1447-56c8-41d9-e3fa-3c8283f70d6f"
      },
      "outputs": [
        {
          "output_type": "display_data",
          "data": {
            "text/plain": [
              "<IPython.core.display.HTML object>"
            ],
            "text/html": [
              "\n",
              "  <style>\n",
              "    pre {\n",
              "        white-space: pre-wrap;\n",
              "    }\n",
              "  </style>\n",
              "  "
            ]
          },
          "metadata": {}
        },
        {
          "output_type": "display_data",
          "data": {
            "text/plain": [
              "<IPython.core.display.HTML object>"
            ],
            "text/html": [
              "\n",
              "  <style>\n",
              "    pre {\n",
              "        white-space: pre-wrap;\n",
              "    }\n",
              "  </style>\n",
              "  "
            ]
          },
          "metadata": {}
        },
        {
          "output_type": "display_data",
          "data": {
            "text/plain": [
              "<IPython.core.display.HTML object>"
            ],
            "text/html": [
              "\n",
              "  <style>\n",
              "    pre {\n",
              "        white-space: pre-wrap;\n",
              "    }\n",
              "  </style>\n",
              "  "
            ]
          },
          "metadata": {}
        },
        {
          "output_type": "stream",
          "name": "stdout",
          "text": [
            "Driver: Sebastian Vettel\n",
            "Team: Red Bull Racing\n"
          ]
        }
      ],
      "source": [
        "#one-shot\n",
        "context_user = [\n",
        "    {'role':'system', 'content':\n",
        "     \"\"\"You are an expert in F1.\n",
        "\n",
        "     Who won the 2000 f1 championship?\n",
        "     Driver: Michael Schumacher.\n",
        "     Team: Ferrari.\"\"\"}\n",
        "]\n",
        "print(return_OAIResponse(\"Who won the F1 2011?\", context_user))"
      ]
    },
    {
      "cell_type": "markdown",
      "id": "32c454a8-181b-482b-873a-81d6ffde4674",
      "metadata": {
        "id": "32c454a8-181b-482b-873a-81d6ffde4674"
      },
      "source": [
        "Smaller models, or more complicated formats, may require more than one shot. Here a sample with two shots."
      ]
    },
    {
      "cell_type": "code",
      "execution_count": 45,
      "id": "8ce600f7-f92e-4cf7-be4a-408f12eb39d6",
      "metadata": {
        "colab": {
          "base_uri": "https://localhost:8080/",
          "height": 53
        },
        "id": "8ce600f7-f92e-4cf7-be4a-408f12eb39d6",
        "outputId": "f909d997-385b-4502-bd4b-773e8dc4fe7c"
      },
      "outputs": [
        {
          "output_type": "display_data",
          "data": {
            "text/plain": [
              "<IPython.core.display.HTML object>"
            ],
            "text/html": [
              "\n",
              "  <style>\n",
              "    pre {\n",
              "        white-space: pre-wrap;\n",
              "    }\n",
              "  </style>\n",
              "  "
            ]
          },
          "metadata": {}
        },
        {
          "output_type": "display_data",
          "data": {
            "text/plain": [
              "<IPython.core.display.HTML object>"
            ],
            "text/html": [
              "\n",
              "  <style>\n",
              "    pre {\n",
              "        white-space: pre-wrap;\n",
              "    }\n",
              "  </style>\n",
              "  "
            ]
          },
          "metadata": {}
        },
        {
          "output_type": "display_data",
          "data": {
            "text/plain": [
              "<IPython.core.display.HTML object>"
            ],
            "text/html": [
              "\n",
              "  <style>\n",
              "    pre {\n",
              "        white-space: pre-wrap;\n",
              "    }\n",
              "  </style>\n",
              "  "
            ]
          },
          "metadata": {}
        },
        {
          "output_type": "stream",
          "name": "stdout",
          "text": [
            "Driver: Fernando Alonso.\n",
            "Team: Renault.\n"
          ]
        }
      ],
      "source": [
        "#Few shots\n",
        "context_user = [\n",
        "    {'role':'system', 'content':\n",
        "     \"\"\"You are an expert in F1.\n",
        "\n",
        "     Who won the 2010 f1 championship?\n",
        "     Driver: Sebastian Vettel.\n",
        "     Team: Red Bull Renault.\n",
        "\n",
        "     Who won the 2009 f1 championship?\n",
        "     Driver: Jenson Button.\n",
        "     Team: BrawnGP.\"\"\"}\n",
        "]\n",
        "print(return_OAIResponse(\"Who won the F1 2006?\", context_user))"
      ]
    },
    {
      "cell_type": "code",
      "execution_count": 46,
      "id": "4b29898a-f715-46d4-b74b-9f95d3112d38",
      "metadata": {
        "colab": {
          "base_uri": "https://localhost:8080/",
          "height": 35
        },
        "id": "4b29898a-f715-46d4-b74b-9f95d3112d38",
        "outputId": "b54357e8-2e4d-41da-9e0b-022146f534ff"
      },
      "outputs": [
        {
          "output_type": "display_data",
          "data": {
            "text/plain": [
              "<IPython.core.display.HTML object>"
            ],
            "text/html": [
              "\n",
              "  <style>\n",
              "    pre {\n",
              "        white-space: pre-wrap;\n",
              "    }\n",
              "  </style>\n",
              "  "
            ]
          },
          "metadata": {}
        },
        {
          "output_type": "display_data",
          "data": {
            "text/plain": [
              "<IPython.core.display.HTML object>"
            ],
            "text/html": [
              "\n",
              "  <style>\n",
              "    pre {\n",
              "        white-space: pre-wrap;\n",
              "    }\n",
              "  </style>\n",
              "  "
            ]
          },
          "metadata": {}
        },
        {
          "output_type": "display_data",
          "data": {
            "text/plain": [
              "<IPython.core.display.HTML object>"
            ],
            "text/html": [
              "\n",
              "  <style>\n",
              "    pre {\n",
              "        white-space: pre-wrap;\n",
              "    }\n",
              "  </style>\n",
              "  "
            ]
          },
          "metadata": {}
        },
        {
          "output_type": "stream",
          "name": "stdout",
          "text": [
            "The 2019 F1 championship was won by Lewis Hamilton of the Mercedes AMG Petronas Formula One Team.\n"
          ]
        }
      ],
      "source": [
        "print(return_OAIResponse(\"Who won the F1 2019?\", context_user))"
      ]
    },
    {
      "cell_type": "markdown",
      "id": "5f1b71c4-6583-4dcb-b987-02abf6aa4a86",
      "metadata": {
        "id": "5f1b71c4-6583-4dcb-b987-02abf6aa4a86"
      },
      "source": [
        "We've been creating the prompt without using OpenAI's roles, and as we've seen, it worked correctly.\n",
        "\n",
        "However, the proper way to do this is by using these roles to construct the prompt, making the model's learning process even more effective.\n",
        "\n",
        "By not feeding it the entire prompt as if they were system commands, we enable the model to learn from a conversation, which is more realistic for it."
      ]
    },
    {
      "cell_type": "code",
      "execution_count": 47,
      "id": "20fa4a25-01a6-4f22-98db-ab7ccc9ba115",
      "metadata": {
        "colab": {
          "base_uri": "https://localhost:8080/",
          "height": 71
        },
        "id": "20fa4a25-01a6-4f22-98db-ab7ccc9ba115",
        "outputId": "741c3800-a7ba-41d4-d1fa-269eddb14fc9"
      },
      "outputs": [
        {
          "output_type": "display_data",
          "data": {
            "text/plain": [
              "<IPython.core.display.HTML object>"
            ],
            "text/html": [
              "\n",
              "  <style>\n",
              "    pre {\n",
              "        white-space: pre-wrap;\n",
              "    }\n",
              "  </style>\n",
              "  "
            ]
          },
          "metadata": {}
        },
        {
          "output_type": "display_data",
          "data": {
            "text/plain": [
              "<IPython.core.display.HTML object>"
            ],
            "text/html": [
              "\n",
              "  <style>\n",
              "    pre {\n",
              "        white-space: pre-wrap;\n",
              "    }\n",
              "  </style>\n",
              "  "
            ]
          },
          "metadata": {}
        },
        {
          "output_type": "display_data",
          "data": {
            "text/plain": [
              "<IPython.core.display.HTML object>"
            ],
            "text/html": [
              "\n",
              "  <style>\n",
              "    pre {\n",
              "        white-space: pre-wrap;\n",
              "    }\n",
              "  </style>\n",
              "  "
            ]
          },
          "metadata": {}
        },
        {
          "output_type": "stream",
          "name": "stdout",
          "text": [
            "Driver: Lewis Hamilton. \n",
            "Team: Mercedes. \n",
            "Points: 413.\n"
          ]
        }
      ],
      "source": [
        "#Recomended solution\n",
        "context_user = [\n",
        "    {'role':'system', 'content':'You are and expert in f1.\\n\\n'},\n",
        "    {'role':'user', 'content':'Who won the 2010 f1 championship?'},\n",
        "    {'role':'assistant', 'content':\"\"\"Driver: Sebastian Vettel. \\nTeam: Red Bull. \\nPoints: 256. \"\"\"},\n",
        "    {'role':'user', 'content':'Who won the 2009 f1 championship?'},\n",
        "    {'role':'assistant', 'content':\"\"\"Driver: Jenson Button. \\nTeam: BrawnGP. \\nPoints: 95. \"\"\"},\n",
        "]\n",
        "\n",
        "print(return_OAIResponse(\"Who won the F1 2019?\", context_user))"
      ]
    },
    {
      "cell_type": "markdown",
      "id": "ac6f6b42-f351-496b-a7e8-1286426457eb",
      "metadata": {
        "id": "ac6f6b42-f351-496b-a7e8-1286426457eb"
      },
      "source": [
        "We could also address it by using a more conventional prompt, describing what we want and how we want the format.\n",
        "\n",
        "However, it's essential to understand that in this case, the model is following instructions, whereas in the case of use shots, it is learning in real-time during inference."
      ]
    },
    {
      "cell_type": "code",
      "execution_count": 48,
      "id": "36c32a32-c348-45b2-85ee-ab4500438c49",
      "metadata": {
        "colab": {
          "base_uri": "https://localhost:8080/",
          "height": 71
        },
        "id": "36c32a32-c348-45b2-85ee-ab4500438c49",
        "outputId": "7106091b-b25f-4d2c-9dae-b3464e9b4304"
      },
      "outputs": [
        {
          "output_type": "display_data",
          "data": {
            "text/plain": [
              "<IPython.core.display.HTML object>"
            ],
            "text/html": [
              "\n",
              "  <style>\n",
              "    pre {\n",
              "        white-space: pre-wrap;\n",
              "    }\n",
              "  </style>\n",
              "  "
            ]
          },
          "metadata": {}
        },
        {
          "output_type": "display_data",
          "data": {
            "text/plain": [
              "<IPython.core.display.HTML object>"
            ],
            "text/html": [
              "\n",
              "  <style>\n",
              "    pre {\n",
              "        white-space: pre-wrap;\n",
              "    }\n",
              "  </style>\n",
              "  "
            ]
          },
          "metadata": {}
        },
        {
          "output_type": "display_data",
          "data": {
            "text/plain": [
              "<IPython.core.display.HTML object>"
            ],
            "text/html": [
              "\n",
              "  <style>\n",
              "    pre {\n",
              "        white-space: pre-wrap;\n",
              "    }\n",
              "  </style>\n",
              "  "
            ]
          },
          "metadata": {}
        },
        {
          "output_type": "stream",
          "name": "stdout",
          "text": [
            "Driver: Lewis Hamilton\n",
            "Team: Mercedes\n",
            "Points: 413\n"
          ]
        }
      ],
      "source": [
        "context_user = [\n",
        "    {'role':'system', 'content':\"\"\"You are and expert in f1.\n",
        "    You are going to answer the question of the user giving the name of the rider,\n",
        "    the name of the team and the points of the champion, following the format:\n",
        "    Drive:\n",
        "    Team:\n",
        "    Points: \"\"\"\n",
        "    }\n",
        "]\n",
        "\n",
        "print(return_OAIResponse(\"Who won the F1 2019?\", context_user))"
      ]
    },
    {
      "cell_type": "code",
      "execution_count": 49,
      "id": "KNDL1GzVngyL",
      "metadata": {
        "id": "KNDL1GzVngyL",
        "outputId": "daed82ed-33a8-49ba-f9f1-85a77c2a9ab4",
        "colab": {
          "base_uri": "https://localhost:8080/",
          "height": 53
        }
      },
      "outputs": [
        {
          "output_type": "display_data",
          "data": {
            "text/plain": [
              "<IPython.core.display.HTML object>"
            ],
            "text/html": [
              "\n",
              "  <style>\n",
              "    pre {\n",
              "        white-space: pre-wrap;\n",
              "    }\n",
              "  </style>\n",
              "  "
            ]
          },
          "metadata": {}
        },
        {
          "output_type": "display_data",
          "data": {
            "text/plain": [
              "<IPython.core.display.HTML object>"
            ],
            "text/html": [
              "\n",
              "  <style>\n",
              "    pre {\n",
              "        white-space: pre-wrap;\n",
              "    }\n",
              "  </style>\n",
              "  "
            ]
          },
          "metadata": {}
        },
        {
          "output_type": "display_data",
          "data": {
            "text/plain": [
              "<IPython.core.display.HTML object>"
            ],
            "text/html": [
              "\n",
              "  <style>\n",
              "    pre {\n",
              "        white-space: pre-wrap;\n",
              "    }\n",
              "  </style>\n",
              "  "
            ]
          },
          "metadata": {}
        },
        {
          "output_type": "stream",
          "name": "stdout",
          "text": [
            "Driver: Fernando Alonso.  \n",
            "Team: Renault.\n"
          ]
        }
      ],
      "source": [
        "context_user = [\n",
        "    {'role':'system', 'content':\n",
        "     \"\"\"You are classifying .\n",
        "\n",
        "     Who won the 2010 f1 championship?\n",
        "     Driver: Sebastian Vettel.\n",
        "     Team: Red Bull Renault.\n",
        "\n",
        "     Who won the 2009 f1 championship?\n",
        "     Driver: Jenson Button.\n",
        "     Team: BrawnGP.\"\"\"}\n",
        "]\n",
        "print(return_OAIResponse(\"Who won the F1 2006?\", context_user))"
      ]
    },
    {
      "cell_type": "markdown",
      "id": "qZPNTLMPnkQ4",
      "metadata": {
        "id": "qZPNTLMPnkQ4"
      },
      "source": [
        "Few Shots for classification.\n"
      ]
    },
    {
      "cell_type": "code",
      "execution_count": 50,
      "id": "ejcstgTxnnX5",
      "metadata": {
        "colab": {
          "base_uri": "https://localhost:8080/",
          "height": 35
        },
        "id": "ejcstgTxnnX5",
        "outputId": "23e4afec-58d9-41f1-cba7-20c49938df16"
      },
      "outputs": [
        {
          "output_type": "display_data",
          "data": {
            "text/plain": [
              "<IPython.core.display.HTML object>"
            ],
            "text/html": [
              "\n",
              "  <style>\n",
              "    pre {\n",
              "        white-space: pre-wrap;\n",
              "    }\n",
              "  </style>\n",
              "  "
            ]
          },
          "metadata": {}
        },
        {
          "output_type": "display_data",
          "data": {
            "text/plain": [
              "<IPython.core.display.HTML object>"
            ],
            "text/html": [
              "\n",
              "  <style>\n",
              "    pre {\n",
              "        white-space: pre-wrap;\n",
              "    }\n",
              "  </style>\n",
              "  "
            ]
          },
          "metadata": {}
        },
        {
          "output_type": "display_data",
          "data": {
            "text/plain": [
              "<IPython.core.display.HTML object>"
            ],
            "text/html": [
              "\n",
              "  <style>\n",
              "    pre {\n",
              "        white-space: pre-wrap;\n",
              "    }\n",
              "  </style>\n",
              "  "
            ]
          },
          "metadata": {}
        },
        {
          "output_type": "stream",
          "name": "stdout",
          "text": [
            "Sentiment: Negative\n"
          ]
        }
      ],
      "source": [
        "context_user = [\n",
        "    {'role':'system', 'content':\n",
        "     \"\"\"You are an expert in reviewing product opinions and classifying them as positive or negative.\n",
        "\n",
        "     It fulfilled its function perfectly, I think the price is fair, I would buy it again.\n",
        "     Sentiment: Positive\n",
        "\n",
        "     It didn't work bad, but I wouldn't buy it again, maybe it's a bit expensive for what it does.\n",
        "     Sentiment: Negative.\n",
        "\n",
        "     I wouldn't know what to say, my son uses it, but he doesn't love it.\n",
        "     Sentiment: Neutral\n",
        "     \"\"\"}\n",
        "]\n",
        "print(return_OAIResponse(\"I'm not going to return it, but I don't plan to buy it again.\", context_user))"
      ]
    },
    {
      "cell_type": "markdown",
      "id": "ffe1d50b-d262-4e74-8f2d-3559f3fcfb15",
      "metadata": {
        "id": "ffe1d50b-d262-4e74-8f2d-3559f3fcfb15"
      },
      "source": [
        "# Exercise\n",
        " - Complete the prompts similar to what we did in class.\n",
        "     - Try at least 3 versions\n",
        "     - Be creative\n",
        " - Write a one page report summarizing your findings.\n",
        "     - Were there variations that didn't work well? i.e., where GPT either hallucinated or wrong\n",
        " - What did you learn?"
      ]
    },
    {
      "cell_type": "markdown",
      "source": [
        "### Results and Report\n",
        "\n",
        "I'm doing the lab exercises but now using a different topic, cat food."
      ],
      "metadata": {
        "id": "bkaaioxUr2pJ"
      },
      "id": "bkaaioxUr2pJ"
    },
    {
      "cell_type": "code",
      "source": [
        "from IPython.display import HTML, display\n",
        "\n",
        "def set_css():\n",
        "  display(HTML('''\n",
        "\n",
        "    <style>\n",
        "      pre {\n",
        "          white-space: pre-wrap;\n",
        "      }\n",
        "    </style>\n",
        "    '''))"
      ],
      "metadata": {
        "colab": {
          "base_uri": "https://localhost:8080/",
          "height": 17
        },
        "id": "KsHgRtmTcqxV",
        "outputId": "fbfc7764-089b-43c5-eac3-5265510006eb"
      },
      "id": "KsHgRtmTcqxV",
      "execution_count": 58,
      "outputs": [
        {
          "output_type": "display_data",
          "data": {
            "text/plain": [
              "<IPython.core.display.HTML object>"
            ],
            "text/html": [
              "\n",
              "  <style>\n",
              "    pre {\n",
              "        white-space: pre-wrap;\n",
              "    }\n",
              "  </style>\n",
              "  "
            ]
          },
          "metadata": {}
        },
        {
          "output_type": "display_data",
          "data": {
            "text/plain": [
              "<IPython.core.display.HTML object>"
            ],
            "text/html": [
              "\n",
              "  <style>\n",
              "    pre {\n",
              "        white-space: pre-wrap;\n",
              "    }\n",
              "  </style>\n",
              "  "
            ]
          },
          "metadata": {}
        },
        {
          "output_type": "display_data",
          "data": {
            "text/plain": [
              "<IPython.core.display.HTML object>"
            ],
            "text/html": [
              "\n",
              "  <style>\n",
              "    pre {\n",
              "        white-space: pre-wrap;\n",
              "    }\n",
              "  </style>\n",
              "  "
            ]
          },
          "metadata": {}
        },
        {
          "output_type": "display_data",
          "data": {
            "text/plain": [
              "<IPython.core.display.HTML object>"
            ],
            "text/html": [
              "\n",
              "  <style>\n",
              "    pre {\n",
              "        white-space: pre-wrap;\n",
              "    }\n",
              "  </style>\n",
              "  "
            ]
          },
          "metadata": {}
        }
      ]
    },
    {
      "cell_type": "code",
      "source": [],
      "metadata": {
        "id": "wGEMbVKgcvVO"
      },
      "id": "wGEMbVKgcvVO",
      "execution_count": null,
      "outputs": []
    },
    {
      "cell_type": "code",
      "source": [
        "# Zero-shot - the model is provided with no prior examples and must rely solely on its training data to generate responses\n",
        "context_user_zero_shot = [\n",
        "    {'role': 'system', 'content': 'You are an expert in cat food.'}\n",
        "]\n",
        "print(return_OAIResponse(\"What are the best ingredients for cat food?\", context_user_zero_shot))\n"
      ],
      "metadata": {
        "colab": {
          "base_uri": "https://localhost:8080/",
          "height": 374
        },
        "id": "UFigL9mi8pNH",
        "outputId": "3dbc970c-7334-42d0-9cbf-de485336642f"
      },
      "id": "UFigL9mi8pNH",
      "execution_count": 59,
      "outputs": [
        {
          "output_type": "display_data",
          "data": {
            "text/plain": [
              "<IPython.core.display.HTML object>"
            ],
            "text/html": [
              "\n",
              "  <style>\n",
              "    pre {\n",
              "        white-space: pre-wrap;\n",
              "    }\n",
              "  </style>\n",
              "  "
            ]
          },
          "metadata": {}
        },
        {
          "output_type": "display_data",
          "data": {
            "text/plain": [
              "<IPython.core.display.HTML object>"
            ],
            "text/html": [
              "\n",
              "  <style>\n",
              "    pre {\n",
              "        white-space: pre-wrap;\n",
              "    }\n",
              "  </style>\n",
              "  "
            ]
          },
          "metadata": {}
        },
        {
          "output_type": "display_data",
          "data": {
            "text/plain": [
              "<IPython.core.display.HTML object>"
            ],
            "text/html": [
              "\n",
              "  <style>\n",
              "    pre {\n",
              "        white-space: pre-wrap;\n",
              "    }\n",
              "  </style>\n",
              "  "
            ]
          },
          "metadata": {}
        },
        {
          "output_type": "display_data",
          "data": {
            "text/plain": [
              "<IPython.core.display.HTML object>"
            ],
            "text/html": [
              "\n",
              "  <style>\n",
              "    pre {\n",
              "        white-space: pre-wrap;\n",
              "    }\n",
              "  </style>\n",
              "  "
            ]
          },
          "metadata": {}
        },
        {
          "output_type": "stream",
          "name": "stdout",
          "text": [
            "The best ingredients for cat food are ones that are highly digestible, provide a balanced nutrition profile, and are sourced from quality, whole-food sources. Some key ingredients to look for in cat food include:\n",
            "\n",
            "1. Protein sources: Cats are obligate carnivores, so their diet should be high in animal-based protein. Look for whole meat sources like chicken, turkey, beef, and fish. Organ meats such as liver and heart can also be beneficial.\n",
            "\n",
            "2. Healthy fats: Fats are a key energy source for cats and also aid in the absorption of fat-soluble vitamins. Look for high-quality animal fats like chicken fat or fish oil.\n",
            "\n",
            "3. Carbohydrates: While cats do not require carbohydrates in their diet, some cat foods may contain small amounts for energy. Look for easily digestible sources such as rice or sweet potatoes.\n",
            "\n",
            "4. Vitamins and minerals: A balanced cat food should contain essential vitamins and minerals to support overall health. Look for foods that are fortified with taurine, omega-3 fatty acids, and other essential nutrients.\n",
            "\n",
            "5. Limited fillers: Avoid cat foods that contain excessive fillers such as corn, wheat, or soy, as these ingredients provide little nutritional value and can be difficult for cats to digest.\n",
            "\n",
            "It's also important to consider your cat's individual needs, such as age, activity level, and any specific health concerns, when choosing a cat food. Be sure to consult with your veterinarian to determine the best diet for your cat.\n"
          ]
        }
      ]
    },
    {
      "cell_type": "code",
      "execution_count": 68,
      "id": "9adda59c-ad09-4e9d-88cd-54f42384a5f3",
      "metadata": {
        "colab": {
          "base_uri": "https://localhost:8080/",
          "height": 88
        },
        "id": "9adda59c-ad09-4e9d-88cd-54f42384a5f3",
        "outputId": "34c7837f-86ee-45eb-ddc0-3b65e507e202"
      },
      "outputs": [
        {
          "output_type": "display_data",
          "data": {
            "text/plain": [
              "<IPython.core.display.HTML object>"
            ],
            "text/html": [
              "\n",
              "  <style>\n",
              "    pre {\n",
              "        white-space: pre-wrap;\n",
              "    }\n",
              "  </style>\n",
              "  "
            ]
          },
          "metadata": {}
        },
        {
          "output_type": "display_data",
          "data": {
            "text/plain": [
              "<IPython.core.display.HTML object>"
            ],
            "text/html": [
              "\n",
              "  <style>\n",
              "    pre {\n",
              "        white-space: pre-wrap;\n",
              "    }\n",
              "  </style>\n",
              "  "
            ]
          },
          "metadata": {}
        },
        {
          "output_type": "display_data",
          "data": {
            "text/plain": [
              "<IPython.core.display.HTML object>"
            ],
            "text/html": [
              "\n",
              "  <style>\n",
              "    pre {\n",
              "        white-space: pre-wrap;\n",
              "    }\n",
              "  </style>\n",
              "  "
            ]
          },
          "metadata": {}
        },
        {
          "output_type": "display_data",
          "data": {
            "text/plain": [
              "<IPython.core.display.HTML object>"
            ],
            "text/html": [
              "\n",
              "  <style>\n",
              "    pre {\n",
              "        white-space: pre-wrap;\n",
              "    }\n",
              "  </style>\n",
              "  "
            ]
          },
          "metadata": {}
        },
        {
          "output_type": "stream",
          "name": "stdout",
          "text": [
            "As an expert in cat food, I recommend choosing cat foods that contain high-quality protein sources such as chicken, salmon, and tuna. These ingredients are rich in essential nutrients that support your cat's overall health and well-being. Additionally, including ingredients like sweet potatoes and carrots can provide important vitamins, minerals, and fiber to support digestion and immunity. When selecting cat food, look for options that list these quality ingredients prominently on the label to ensure your cat is getting the nutrition they need.\n"
          ]
        }
      ],
      "source": [
        "# One-shot - the model is given a single example to help it understand the desired response format better\n",
        "context_user_one_shot = [\n",
        "    {'role': 'system', 'content':\n",
        "     \"\"\"You are an expert in cat food.\n",
        "\n",
        "     What are the best ingredients for cat food?\n",
        "     Ingredients: Chicken, Salmon, Tuna, Sweet Potatoes, Carrots.\"\"\"}\n",
        "]\n",
        "print(return_OAIResponse(\"What are the best ingredients for cat food?\", context_user_one_shot))\n"
      ]
    },
    {
      "cell_type": "code",
      "source": [
        "# Few-shots - the model is given multiple examples\n",
        "context_user_few_shots = [\n",
        "    {'role': 'system', 'content':\n",
        "     \"\"\"You are an expert in cat food.\n",
        "\n",
        "     What are the best ingredients for cat food?\n",
        "     Ingredients: Chicken, Salmon, Tuna, Sweet Potatoes, Carrots.\n",
        "\n",
        "     What ingredients should be avoided in cat food?\n",
        "     Avoid: Onions, Garlic, Chocolate, Alcohol, Caffeine.\"\"\"}\n",
        "]\n",
        "print(return_OAIResponse(\"What are the best ingredients for cat food?\", context_user_few_shots))\n"
      ],
      "metadata": {
        "colab": {
          "base_uri": "https://localhost:8080/",
          "height": 53
        },
        "id": "EhH_KK1LsAi_",
        "outputId": "e2b445d7-dc4f-4cdb-f0bb-11cdb6b490fe"
      },
      "id": "EhH_KK1LsAi_",
      "execution_count": 63,
      "outputs": [
        {
          "output_type": "display_data",
          "data": {
            "text/plain": [
              "<IPython.core.display.HTML object>"
            ],
            "text/html": [
              "\n",
              "  <style>\n",
              "    pre {\n",
              "        white-space: pre-wrap;\n",
              "    }\n",
              "  </style>\n",
              "  "
            ]
          },
          "metadata": {}
        },
        {
          "output_type": "display_data",
          "data": {
            "text/plain": [
              "<IPython.core.display.HTML object>"
            ],
            "text/html": [
              "\n",
              "  <style>\n",
              "    pre {\n",
              "        white-space: pre-wrap;\n",
              "    }\n",
              "  </style>\n",
              "  "
            ]
          },
          "metadata": {}
        },
        {
          "output_type": "display_data",
          "data": {
            "text/plain": [
              "<IPython.core.display.HTML object>"
            ],
            "text/html": [
              "\n",
              "  <style>\n",
              "    pre {\n",
              "        white-space: pre-wrap;\n",
              "    }\n",
              "  </style>\n",
              "  "
            ]
          },
          "metadata": {}
        },
        {
          "output_type": "display_data",
          "data": {
            "text/plain": [
              "<IPython.core.display.HTML object>"
            ],
            "text/html": [
              "\n",
              "  <style>\n",
              "    pre {\n",
              "        white-space: pre-wrap;\n",
              "    }\n",
              "  </style>\n",
              "  "
            ]
          },
          "metadata": {}
        },
        {
          "output_type": "stream",
          "name": "stdout",
          "text": [
            "The best ingredients for cat food are high-quality sources of protein such as chicken, salmon, and tuna, as well as nutrient-rich ingredients like sweet potatoes and carrots. These ingredients provide cats with essential nutrients for their overall health and well-being.\n"
          ]
        }
      ]
    },
    {
      "cell_type": "markdown",
      "source": [
        "Variation 1"
      ],
      "metadata": {
        "id": "dOGQnhfTcGPh"
      },
      "id": "dOGQnhfTcGPh"
    },
    {
      "cell_type": "code",
      "source": [
        "# Asking  about the best ingredients without giving context\n",
        "context_basic = [\n",
        "    {'role': 'system', 'content': 'You are an expert in cat food.'},\n",
        "    {'role': 'user', 'content': 'What are the best ingredients for cat food?'}\n",
        "]\n",
        "print(return_OAIResponse(\"What are the best ingredients for cat food?\", context_basic))\n"
      ],
      "metadata": {
        "colab": {
          "base_uri": "https://localhost:8080/",
          "height": 428
        },
        "id": "P3OlgJhlsBDS",
        "outputId": "45d3b4c8-4506-4f6e-febb-5e52e63eab67"
      },
      "id": "P3OlgJhlsBDS",
      "execution_count": 65,
      "outputs": [
        {
          "output_type": "display_data",
          "data": {
            "text/plain": [
              "<IPython.core.display.HTML object>"
            ],
            "text/html": [
              "\n",
              "  <style>\n",
              "    pre {\n",
              "        white-space: pre-wrap;\n",
              "    }\n",
              "  </style>\n",
              "  "
            ]
          },
          "metadata": {}
        },
        {
          "output_type": "display_data",
          "data": {
            "text/plain": [
              "<IPython.core.display.HTML object>"
            ],
            "text/html": [
              "\n",
              "  <style>\n",
              "    pre {\n",
              "        white-space: pre-wrap;\n",
              "    }\n",
              "  </style>\n",
              "  "
            ]
          },
          "metadata": {}
        },
        {
          "output_type": "display_data",
          "data": {
            "text/plain": [
              "<IPython.core.display.HTML object>"
            ],
            "text/html": [
              "\n",
              "  <style>\n",
              "    pre {\n",
              "        white-space: pre-wrap;\n",
              "    }\n",
              "  </style>\n",
              "  "
            ]
          },
          "metadata": {}
        },
        {
          "output_type": "display_data",
          "data": {
            "text/plain": [
              "<IPython.core.display.HTML object>"
            ],
            "text/html": [
              "\n",
              "  <style>\n",
              "    pre {\n",
              "        white-space: pre-wrap;\n",
              "    }\n",
              "  </style>\n",
              "  "
            ]
          },
          "metadata": {}
        },
        {
          "output_type": "stream",
          "name": "stdout",
          "text": [
            "The best ingredients for cat food are those that provide a well-balanced and complete diet for your feline friend. Here are some key ingredients to look for in high-quality cat food:\n",
            "\n",
            "1. Protein: Cats are obligate carnivores, which means they require a diet high in animal-based protein. Look for cat foods that list a high-quality source of protein, such as chicken, turkey, fish, or lamb, as the first ingredient.\n",
            "\n",
            "2. Taurine: Taurine is an essential amino acid for cats that is crucial for their heart and eye health. Make sure the cat food you choose contains adequate levels of taurine.\n",
            "\n",
            "3. Essential fatty acids: Omega-3 and Omega-6 fatty acids are important for maintaining healthy skin and coat, as well as supporting overall health. Look for cat foods that include sources of these essential fatty acids, such as fish oil or flaxseed.\n",
            "\n",
            "4. Vitamins and minerals: Cats require certain vitamins and minerals to support their overall health and well-being. Choose cat foods that are fortified with essential vitamins and minerals, or consider a balanced supplement if needed.\n",
            "\n",
            "5. Limited carbohydrates: Cats have a low carbohydrate requirement compared to other animals, so it's best to choose a cat food with minimal fillers such as corn, wheat, or soy. Opt for recipes that are grain-free or have limited grain content.\n",
            "\n",
            "6. Limited additives: Avoid cat foods that contain artificial colors, flavors, or preservatives. Look for natural ingredients and minimal processing to provide your cat with a wholesome diet.\n",
            "\n",
            "Overall, the best cat food should be made from high-quality ingredients that meet your cat's specific nutritional needs. It's always a good idea to consult with your veterinarian to determine the best diet for your individual cat based on their age, health status, and dietary preferences.\n"
          ]
        }
      ]
    },
    {
      "cell_type": "markdown",
      "source": [
        "Variation 2 - Giving options for ingredients with Coffee as an impostor ingredient."
      ],
      "metadata": {
        "id": "muhH7WascNT1"
      },
      "id": "muhH7WascNT1"
    },
    {
      "cell_type": "code",
      "source": [
        "context_detailed = [\n",
        "    {'role': 'system', 'content':\n",
        "     \"\"\"You are an expert in cat food.\n",
        "\n",
        "     What are the best ingredients for cat food?\n",
        "     Ingredients: Chicken, Salmon, Tuna, Sweet Potatoes, Carrots, Spinach, Turkey, Coffee.\"\"\"}\n",
        "]\n",
        "print(return_OAIResponse(\"What are the best ingredients for cat food?\", context_detailed))\n"
      ],
      "metadata": {
        "colab": {
          "base_uri": "https://localhost:8080/",
          "height": 71
        },
        "id": "fsFlzLZ1cM8n",
        "outputId": "c41d9080-8463-4470-bb81-62e3e6f14add"
      },
      "id": "fsFlzLZ1cM8n",
      "execution_count": 64,
      "outputs": [
        {
          "output_type": "display_data",
          "data": {
            "text/plain": [
              "<IPython.core.display.HTML object>"
            ],
            "text/html": [
              "\n",
              "  <style>\n",
              "    pre {\n",
              "        white-space: pre-wrap;\n",
              "    }\n",
              "  </style>\n",
              "  "
            ]
          },
          "metadata": {}
        },
        {
          "output_type": "display_data",
          "data": {
            "text/plain": [
              "<IPython.core.display.HTML object>"
            ],
            "text/html": [
              "\n",
              "  <style>\n",
              "    pre {\n",
              "        white-space: pre-wrap;\n",
              "    }\n",
              "  </style>\n",
              "  "
            ]
          },
          "metadata": {}
        },
        {
          "output_type": "display_data",
          "data": {
            "text/plain": [
              "<IPython.core.display.HTML object>"
            ],
            "text/html": [
              "\n",
              "  <style>\n",
              "    pre {\n",
              "        white-space: pre-wrap;\n",
              "    }\n",
              "  </style>\n",
              "  "
            ]
          },
          "metadata": {}
        },
        {
          "output_type": "display_data",
          "data": {
            "text/plain": [
              "<IPython.core.display.HTML object>"
            ],
            "text/html": [
              "\n",
              "  <style>\n",
              "    pre {\n",
              "        white-space: pre-wrap;\n",
              "    }\n",
              "  </style>\n",
              "  "
            ]
          },
          "metadata": {}
        },
        {
          "output_type": "stream",
          "name": "stdout",
          "text": [
            "The best ingredients for cat food are high-quality sources of protein such as chicken, salmon, tuna, and turkey. Cats are obligate carnivores, so protein should be the primary component of their diet. Additionally, incorporating fruits and vegetables like sweet potatoes, carrots, and spinach can provide essential vitamins and minerals. It is important to avoid ingredients like coffee, as it can be toxic to cats.\n"
          ]
        }
      ]
    },
    {
      "cell_type": "markdown",
      "source": [
        "Variation 3"
      ],
      "metadata": {
        "id": "b2mnrH6_cOiL"
      },
      "id": "b2mnrH6_cOiL"
    },
    {
      "cell_type": "code",
      "source": [
        "context_comprehensive = [\n",
        "    {'role': 'system', 'content':\n",
        "     \"\"\"You are an expert in cat food.\n",
        "\n",
        "     What are the best ingredients for cat food?\n",
        "     Ingredients: Chicken, Salmon, Tuna, Sweet Potatoes, Carrots, Spinach, Turkey, Coffee.\n",
        "\n",
        "     What ingredients should be avoided in cat food?\n",
        "     Avoid: Onions, Garlic, Chocolate, Alcohol, Caffeine.\n",
        "\n",
        "     What are some good protein sources for cats?\n",
        "     Protein Sources: Chicken, Turkey, Fish, Beef.\"\"\"}\n",
        "]\n",
        "print(return_OAIResponse(\"What are the best ingredients for cat food?\", context_comprehensive))\n"
      ],
      "metadata": {
        "colab": {
          "base_uri": "https://localhost:8080/",
          "height": 53
        },
        "id": "QsfC9rbtcPU9",
        "outputId": "2da004be-f081-48aa-b356-3bf95f41a770"
      },
      "id": "QsfC9rbtcPU9",
      "execution_count": 66,
      "outputs": [
        {
          "output_type": "display_data",
          "data": {
            "text/plain": [
              "<IPython.core.display.HTML object>"
            ],
            "text/html": [
              "\n",
              "  <style>\n",
              "    pre {\n",
              "        white-space: pre-wrap;\n",
              "    }\n",
              "  </style>\n",
              "  "
            ]
          },
          "metadata": {}
        },
        {
          "output_type": "display_data",
          "data": {
            "text/plain": [
              "<IPython.core.display.HTML object>"
            ],
            "text/html": [
              "\n",
              "  <style>\n",
              "    pre {\n",
              "        white-space: pre-wrap;\n",
              "    }\n",
              "  </style>\n",
              "  "
            ]
          },
          "metadata": {}
        },
        {
          "output_type": "display_data",
          "data": {
            "text/plain": [
              "<IPython.core.display.HTML object>"
            ],
            "text/html": [
              "\n",
              "  <style>\n",
              "    pre {\n",
              "        white-space: pre-wrap;\n",
              "    }\n",
              "  </style>\n",
              "  "
            ]
          },
          "metadata": {}
        },
        {
          "output_type": "display_data",
          "data": {
            "text/plain": [
              "<IPython.core.display.HTML object>"
            ],
            "text/html": [
              "\n",
              "  <style>\n",
              "    pre {\n",
              "        white-space: pre-wrap;\n",
              "    }\n",
              "  </style>\n",
              "  "
            ]
          },
          "metadata": {}
        },
        {
          "output_type": "stream",
          "name": "stdout",
          "text": [
            "The best ingredients for cat food are chicken, salmon, tuna, sweet potatoes, carrots, spinach, and turkey. These ingredients are nutritious and provide cats with essential nutrients for their overall health and well-being.\n"
          ]
        }
      ]
    },
    {
      "cell_type": "markdown",
      "source": [
        "Variation 4 - increased ambiguity\n",
        "\n",
        "As the results are too close to the expected, let's add ambiguity to the prompt:"
      ],
      "metadata": {
        "id": "w_DNmdHlf1gu"
      },
      "id": "w_DNmdHlf1gu"
    },
    {
      "cell_type": "code",
      "source": [],
      "metadata": {
        "id": "-Yw4uMxygCC2"
      },
      "id": "-Yw4uMxygCC2",
      "execution_count": null,
      "outputs": []
    },
    {
      "cell_type": "markdown",
      "source": [
        "### Trying the same with a different temperature - Temperature = 0"
      ],
      "metadata": {
        "id": "ePgLh907gCXb"
      },
      "id": "ePgLh907gCXb"
    },
    {
      "cell_type": "code",
      "source": [
        "# Function to call the model.\n",
        "def return_OAIResponse_2(user_message, context):\n",
        "    client = OpenAI(\n",
        "    # This is the default and can be omitted\n",
        "    api_key=OPENAI_API_KEY,\n",
        ")\n",
        "\n",
        "    newcontext = context.copy()\n",
        "    newcontext.append({'role':'user', 'content':\"question: \" + user_message})\n",
        "\n",
        "    response = client.chat.completions.create(\n",
        "            model=\"gpt-3.5-turbo\",\n",
        "            messages=newcontext,\n",
        "            temperature=0,\n",
        "        )\n",
        "\n",
        "    return (response.choices[0].message.content)"
      ],
      "metadata": {
        "colab": {
          "base_uri": "https://localhost:8080/",
          "height": 17
        },
        "id": "8d835s7qgKHI",
        "outputId": "9f544313-e343-44fe-fb34-bf9c33946010"
      },
      "id": "8d835s7qgKHI",
      "execution_count": 69,
      "outputs": [
        {
          "output_type": "display_data",
          "data": {
            "text/plain": [
              "<IPython.core.display.HTML object>"
            ],
            "text/html": [
              "\n",
              "  <style>\n",
              "    pre {\n",
              "        white-space: pre-wrap;\n",
              "    }\n",
              "  </style>\n",
              "  "
            ]
          },
          "metadata": {}
        },
        {
          "output_type": "display_data",
          "data": {
            "text/plain": [
              "<IPython.core.display.HTML object>"
            ],
            "text/html": [
              "\n",
              "  <style>\n",
              "    pre {\n",
              "        white-space: pre-wrap;\n",
              "    }\n",
              "  </style>\n",
              "  "
            ]
          },
          "metadata": {}
        },
        {
          "output_type": "display_data",
          "data": {
            "text/plain": [
              "<IPython.core.display.HTML object>"
            ],
            "text/html": [
              "\n",
              "  <style>\n",
              "    pre {\n",
              "        white-space: pre-wrap;\n",
              "    }\n",
              "  </style>\n",
              "  "
            ]
          },
          "metadata": {}
        },
        {
          "output_type": "display_data",
          "data": {
            "text/plain": [
              "<IPython.core.display.HTML object>"
            ],
            "text/html": [
              "\n",
              "  <style>\n",
              "    pre {\n",
              "        white-space: pre-wrap;\n",
              "    }\n",
              "  </style>\n",
              "  "
            ]
          },
          "metadata": {}
        }
      ]
    },
    {
      "cell_type": "code",
      "source": [
        "# Zero-shot - the model is provided with no prior examples and must rely solely on its training data to generate responses\n",
        "context_user_zero_shot = [\n",
        "    {'role': 'system', 'content': 'You are an expert in cat food.'}\n",
        "]\n",
        "print(return_OAIResponse_2(\"What are the best ingredients for cat food?\", context_user_zero_shot))\n"
      ],
      "metadata": {
        "colab": {
          "base_uri": "https://localhost:8080/",
          "height": 428
        },
        "id": "mJjfmgmMgjZE",
        "outputId": "d7ac7d04-3fb2-4147-be89-85d1d827ca4b"
      },
      "id": "mJjfmgmMgjZE",
      "execution_count": 70,
      "outputs": [
        {
          "output_type": "display_data",
          "data": {
            "text/plain": [
              "<IPython.core.display.HTML object>"
            ],
            "text/html": [
              "\n",
              "  <style>\n",
              "    pre {\n",
              "        white-space: pre-wrap;\n",
              "    }\n",
              "  </style>\n",
              "  "
            ]
          },
          "metadata": {}
        },
        {
          "output_type": "display_data",
          "data": {
            "text/plain": [
              "<IPython.core.display.HTML object>"
            ],
            "text/html": [
              "\n",
              "  <style>\n",
              "    pre {\n",
              "        white-space: pre-wrap;\n",
              "    }\n",
              "  </style>\n",
              "  "
            ]
          },
          "metadata": {}
        },
        {
          "output_type": "display_data",
          "data": {
            "text/plain": [
              "<IPython.core.display.HTML object>"
            ],
            "text/html": [
              "\n",
              "  <style>\n",
              "    pre {\n",
              "        white-space: pre-wrap;\n",
              "    }\n",
              "  </style>\n",
              "  "
            ]
          },
          "metadata": {}
        },
        {
          "output_type": "display_data",
          "data": {
            "text/plain": [
              "<IPython.core.display.HTML object>"
            ],
            "text/html": [
              "\n",
              "  <style>\n",
              "    pre {\n",
              "        white-space: pre-wrap;\n",
              "    }\n",
              "  </style>\n",
              "  "
            ]
          },
          "metadata": {}
        },
        {
          "output_type": "stream",
          "name": "stdout",
          "text": [
            "The best ingredients for cat food are those that provide a balanced and complete nutrition for your feline friend. Here are some key ingredients to look for in cat food:\n",
            "\n",
            "1. High-quality animal protein sources: Cats are obligate carnivores, which means they require a diet high in animal-based protein. Look for cat foods that list a high-quality protein source, such as chicken, turkey, fish, or beef, as the first ingredient.\n",
            "\n",
            "2. Essential amino acids: Cats require certain essential amino acids, such as taurine and arginine, that are found in animal protein sources. Make sure the cat food you choose contains these essential amino acids to support your cat's overall health.\n",
            "\n",
            "3. Healthy fats: Cats need fats in their diet for energy and to support healthy skin and coat. Look for cat foods that contain omega-3 and omega-6 fatty acids from sources like fish oil or flaxseed to promote a shiny coat and healthy skin.\n",
            "\n",
            "4. Vitamins and minerals: Cat food should be fortified with essential vitamins and minerals to support your cat's overall health and well-being. Look for cat foods that contain a balanced blend of vitamins and minerals, including vitamin E, vitamin A, and calcium.\n",
            "\n",
            "5. Limited carbohydrates: Cats have a limited ability to digest carbohydrates, so it's best to choose cat foods that have a lower carbohydrate content. Look for cat foods that list protein sources as the main ingredients rather than fillers like corn, wheat, or soy.\n",
            "\n",
            "6. Water: Cats have a low thirst drive, so it's important to choose cat foods that have a high moisture content to help keep your cat hydrated. Wet cat food is a good option as it provides additional moisture compared to dry cat food.\n",
            "\n",
            "Overall, the best cat food will provide a balanced and complete nutrition that meets your cat's specific dietary needs. It's always a good idea to consult with your veterinarian to determine the best diet for your individual cat based on their age, activity level, and any specific health concerns.\n"
          ]
        }
      ]
    },
    {
      "cell_type": "code",
      "source": [
        "# One-shot - the model is given a single example to help it understand the desired response format better\n",
        "context_user_one_shot = [\n",
        "    {'role': 'system', 'content':\n",
        "     \"\"\"You are an expert in cat food.\n",
        "\n",
        "     What are the best ingredients for cat food?\n",
        "     Ingredients: Chicken, Salmon, Tuna, Sweet Potatoes, Carrots.\"\"\"}\n",
        "]\n",
        "print(return_OAIResponse_2(\"What are the best ingredients for cat food?\", context_user_one_shot))\n"
      ],
      "metadata": {
        "colab": {
          "base_uri": "https://localhost:8080/",
          "height": 285
        },
        "id": "1126rQ3rglZx",
        "outputId": "af6c36df-f66b-4120-e42e-9781ff3b38ac"
      },
      "id": "1126rQ3rglZx",
      "execution_count": 71,
      "outputs": [
        {
          "output_type": "display_data",
          "data": {
            "text/plain": [
              "<IPython.core.display.HTML object>"
            ],
            "text/html": [
              "\n",
              "  <style>\n",
              "    pre {\n",
              "        white-space: pre-wrap;\n",
              "    }\n",
              "  </style>\n",
              "  "
            ]
          },
          "metadata": {}
        },
        {
          "output_type": "display_data",
          "data": {
            "text/plain": [
              "<IPython.core.display.HTML object>"
            ],
            "text/html": [
              "\n",
              "  <style>\n",
              "    pre {\n",
              "        white-space: pre-wrap;\n",
              "    }\n",
              "  </style>\n",
              "  "
            ]
          },
          "metadata": {}
        },
        {
          "output_type": "display_data",
          "data": {
            "text/plain": [
              "<IPython.core.display.HTML object>"
            ],
            "text/html": [
              "\n",
              "  <style>\n",
              "    pre {\n",
              "        white-space: pre-wrap;\n",
              "    }\n",
              "  </style>\n",
              "  "
            ]
          },
          "metadata": {}
        },
        {
          "output_type": "display_data",
          "data": {
            "text/plain": [
              "<IPython.core.display.HTML object>"
            ],
            "text/html": [
              "\n",
              "  <style>\n",
              "    pre {\n",
              "        white-space: pre-wrap;\n",
              "    }\n",
              "  </style>\n",
              "  "
            ]
          },
          "metadata": {}
        },
        {
          "output_type": "stream",
          "name": "stdout",
          "text": [
            "The best ingredients for cat food are those that provide essential nutrients for your cat's health and well-being. Some of the top ingredients to look for in cat food include:\n",
            "\n",
            "1. Chicken: A high-quality source of protein that helps support your cat's muscle development and overall health.\n",
            "\n",
            "2. Salmon: Rich in omega-3 fatty acids, which are beneficial for your cat's skin, coat, and overall immune system.\n",
            "\n",
            "3. Tuna: Another excellent source of protein and omega-3 fatty acids that can help support your cat's overall health.\n",
            "\n",
            "4. Sweet Potatoes: A good source of carbohydrates and fiber that can help support your cat's digestion and provide energy.\n",
            "\n",
            "5. Carrots: Rich in vitamins and minerals, carrots can help support your cat's immune system and overall health.\n",
            "\n",
            "When choosing cat food, it's important to look for products that list these high-quality ingredients near the top of the ingredient list to ensure that your cat is getting the essential nutrients they need.\n"
          ]
        }
      ]
    },
    {
      "cell_type": "code",
      "source": [
        "# Few-shots - the model is given multiple examples\n",
        "context_user_few_shots = [\n",
        "    {'role': 'system', 'content':\n",
        "     \"\"\"You are an expert in cat food.\n",
        "\n",
        "     What are the best ingredients for cat food?\n",
        "     Ingredients: Chicken, Salmon, Tuna, Sweet Potatoes, Carrots.\n",
        "\n",
        "     What ingredients should be avoided in cat food?\n",
        "     Avoid: Onions, Garlic, Chocolate, Alcohol, Caffeine.\"\"\"}\n",
        "]\n",
        "print(return_OAIResponse_2(\"What are the best ingredients for cat food?\", context_user_few_shots))\n"
      ],
      "metadata": {
        "colab": {
          "base_uri": "https://localhost:8080/",
          "height": 53
        },
        "id": "nOS3eZBlgnVc",
        "outputId": "041361db-1265-4370-be0a-f4c8df2451cc"
      },
      "id": "nOS3eZBlgnVc",
      "execution_count": 72,
      "outputs": [
        {
          "output_type": "display_data",
          "data": {
            "text/plain": [
              "<IPython.core.display.HTML object>"
            ],
            "text/html": [
              "\n",
              "  <style>\n",
              "    pre {\n",
              "        white-space: pre-wrap;\n",
              "    }\n",
              "  </style>\n",
              "  "
            ]
          },
          "metadata": {}
        },
        {
          "output_type": "display_data",
          "data": {
            "text/plain": [
              "<IPython.core.display.HTML object>"
            ],
            "text/html": [
              "\n",
              "  <style>\n",
              "    pre {\n",
              "        white-space: pre-wrap;\n",
              "    }\n",
              "  </style>\n",
              "  "
            ]
          },
          "metadata": {}
        },
        {
          "output_type": "display_data",
          "data": {
            "text/plain": [
              "<IPython.core.display.HTML object>"
            ],
            "text/html": [
              "\n",
              "  <style>\n",
              "    pre {\n",
              "        white-space: pre-wrap;\n",
              "    }\n",
              "  </style>\n",
              "  "
            ]
          },
          "metadata": {}
        },
        {
          "output_type": "display_data",
          "data": {
            "text/plain": [
              "<IPython.core.display.HTML object>"
            ],
            "text/html": [
              "\n",
              "  <style>\n",
              "    pre {\n",
              "        white-space: pre-wrap;\n",
              "    }\n",
              "  </style>\n",
              "  "
            ]
          },
          "metadata": {}
        },
        {
          "output_type": "stream",
          "name": "stdout",
          "text": [
            "The best ingredients for cat food include high-quality sources of protein such as chicken, salmon, and tuna. Additionally, including nutrient-rich ingredients like sweet potatoes and carrots can provide essential vitamins and minerals for your cat's overall health and well-being.\n"
          ]
        }
      ]
    },
    {
      "cell_type": "code",
      "source": [
        "# Variation 1\n",
        "context_basic = [\n",
        "    {'role': 'system', 'content': 'You are an expert in cat food.'},\n",
        "    {'role': 'user', 'content': 'What are the best ingredients for cat food?'}\n",
        "]\n",
        "print(return_OAIResponse_2(\"What are the best ingredients for cat food?\", context_basic))\n"
      ],
      "metadata": {
        "colab": {
          "base_uri": "https://localhost:8080/",
          "height": 392
        },
        "id": "wBawKlxUgpEJ",
        "outputId": "d5392009-f2fa-4593-97d6-f1c1b60f1adb"
      },
      "id": "wBawKlxUgpEJ",
      "execution_count": 73,
      "outputs": [
        {
          "output_type": "display_data",
          "data": {
            "text/plain": [
              "<IPython.core.display.HTML object>"
            ],
            "text/html": [
              "\n",
              "  <style>\n",
              "    pre {\n",
              "        white-space: pre-wrap;\n",
              "    }\n",
              "  </style>\n",
              "  "
            ]
          },
          "metadata": {}
        },
        {
          "output_type": "display_data",
          "data": {
            "text/plain": [
              "<IPython.core.display.HTML object>"
            ],
            "text/html": [
              "\n",
              "  <style>\n",
              "    pre {\n",
              "        white-space: pre-wrap;\n",
              "    }\n",
              "  </style>\n",
              "  "
            ]
          },
          "metadata": {}
        },
        {
          "output_type": "display_data",
          "data": {
            "text/plain": [
              "<IPython.core.display.HTML object>"
            ],
            "text/html": [
              "\n",
              "  <style>\n",
              "    pre {\n",
              "        white-space: pre-wrap;\n",
              "    }\n",
              "  </style>\n",
              "  "
            ]
          },
          "metadata": {}
        },
        {
          "output_type": "display_data",
          "data": {
            "text/plain": [
              "<IPython.core.display.HTML object>"
            ],
            "text/html": [
              "\n",
              "  <style>\n",
              "    pre {\n",
              "        white-space: pre-wrap;\n",
              "    }\n",
              "  </style>\n",
              "  "
            ]
          },
          "metadata": {}
        },
        {
          "output_type": "stream",
          "name": "stdout",
          "text": [
            "The best ingredients for cat food are those that provide a balanced and complete nutrition for your feline friend. Here are some key ingredients to look for in cat food:\n",
            "\n",
            "1. High-quality animal protein sources: Cats are obligate carnivores, which means they require a diet high in animal protein. Look for cat foods that list a high-quality animal protein source, such as chicken, turkey, fish, or beef, as the first ingredient.\n",
            "\n",
            "2. Essential nutrients: Cats require specific nutrients such as taurine, arachidonic acid, and vitamins like A and D in their diet. Make sure the cat food you choose is formulated to meet these nutritional requirements.\n",
            "\n",
            "3. Limited carbohydrates: Cats have a limited ability to digest carbohydrates, so it's best to choose cat foods that have a lower carbohydrate content. Look for cat foods that are grain-free or have whole grains like brown rice or oats.\n",
            "\n",
            "4. Healthy fats: Fats are an important energy source for cats and help support their skin and coat health. Look for cat foods that contain healthy fats like omega-3 and omega-6 fatty acids from sources like fish oil or flaxseed.\n",
            "\n",
            "5. Limited fillers and artificial additives: Avoid cat foods that contain fillers like corn, wheat, or soy, as these ingredients offer little nutritional value. Also, steer clear of artificial colors, flavors, and preservatives.\n",
            "\n",
            "Overall, the best cat food will provide a balanced mix of high-quality animal protein, essential nutrients, healthy fats, and limited carbohydrates, while avoiding fillers and artificial additives. It's always a good idea to consult with your veterinarian to determine the best diet for your individual cat based on their age, health status, and specific dietary needs.\n"
          ]
        }
      ]
    },
    {
      "cell_type": "code",
      "source": [
        "#Variation 2\n",
        "context_detailed = [\n",
        "    {'role': 'system', 'content':\n",
        "     \"\"\"You are an expert in cat food.\n",
        "\n",
        "     What are the best ingredients for cat food?\n",
        "     Ingredients: Chicken, Salmon, Tuna, Sweet Potatoes, Carrots, Spinach, Turkey, Coffee.\"\"\"}\n",
        "]\n",
        "print(return_OAIResponse_2(\"What are the best ingredients for cat food?\", context_detailed))\n"
      ],
      "metadata": {
        "colab": {
          "base_uri": "https://localhost:8080/",
          "height": 88
        },
        "id": "Ep4aJ6vFgsfO",
        "outputId": "353b0171-c1e0-400e-c223-5cb0b63ea6b8"
      },
      "id": "Ep4aJ6vFgsfO",
      "execution_count": 74,
      "outputs": [
        {
          "output_type": "display_data",
          "data": {
            "text/plain": [
              "<IPython.core.display.HTML object>"
            ],
            "text/html": [
              "\n",
              "  <style>\n",
              "    pre {\n",
              "        white-space: pre-wrap;\n",
              "    }\n",
              "  </style>\n",
              "  "
            ]
          },
          "metadata": {}
        },
        {
          "output_type": "display_data",
          "data": {
            "text/plain": [
              "<IPython.core.display.HTML object>"
            ],
            "text/html": [
              "\n",
              "  <style>\n",
              "    pre {\n",
              "        white-space: pre-wrap;\n",
              "    }\n",
              "  </style>\n",
              "  "
            ]
          },
          "metadata": {}
        },
        {
          "output_type": "display_data",
          "data": {
            "text/plain": [
              "<IPython.core.display.HTML object>"
            ],
            "text/html": [
              "\n",
              "  <style>\n",
              "    pre {\n",
              "        white-space: pre-wrap;\n",
              "    }\n",
              "  </style>\n",
              "  "
            ]
          },
          "metadata": {}
        },
        {
          "output_type": "display_data",
          "data": {
            "text/plain": [
              "<IPython.core.display.HTML object>"
            ],
            "text/html": [
              "\n",
              "  <style>\n",
              "    pre {\n",
              "        white-space: pre-wrap;\n",
              "    }\n",
              "  </style>\n",
              "  "
            ]
          },
          "metadata": {}
        },
        {
          "output_type": "stream",
          "name": "stdout",
          "text": [
            "The best ingredients for cat food are high-quality sources of protein such as chicken, salmon, tuna, and turkey. These ingredients provide essential amino acids that cats need for overall health and wellbeing. Additionally, ingredients like sweet potatoes, carrots, and spinach can provide important vitamins, minerals, and fiber to support your cat's digestion and immune system. However, it is important to note that coffee is not suitable for cats and should never be included in their diet as it can be toxic to them.\n"
          ]
        }
      ]
    },
    {
      "cell_type": "code",
      "source": [
        "# Variation 3\n",
        "context_comprehensive = [\n",
        "    {'role': 'system', 'content':\n",
        "     \"\"\"You are an expert in cat food.\n",
        "\n",
        "     What are the best ingredients for cat food?\n",
        "     Ingredients: Chicken, Salmon, Tuna, Sweet Potatoes, Carrots, Spinach, Turkey, Coffee.\n",
        "\n",
        "     What ingredients should be avoided in cat food?\n",
        "     Avoid: Onions, Garlic, Chocolate, Alcohol, Caffeine.\n",
        "\n",
        "     What are some good protein sources for cats?\n",
        "     Protein Sources: Chicken, Turkey, Fish, Beef.\"\"\"}\n",
        "]\n",
        "print(return_OAIResponse_2(\"What are the best ingredients for cat food?\", context_comprehensive))\n",
        "\n"
      ],
      "metadata": {
        "colab": {
          "base_uri": "https://localhost:8080/",
          "height": 53
        },
        "id": "U7jmJXNpgvw8",
        "outputId": "ecd96e3f-e473-40d3-f5d3-f99e411afd3b"
      },
      "id": "U7jmJXNpgvw8",
      "execution_count": 75,
      "outputs": [
        {
          "output_type": "display_data",
          "data": {
            "text/plain": [
              "<IPython.core.display.HTML object>"
            ],
            "text/html": [
              "\n",
              "  <style>\n",
              "    pre {\n",
              "        white-space: pre-wrap;\n",
              "    }\n",
              "  </style>\n",
              "  "
            ]
          },
          "metadata": {}
        },
        {
          "output_type": "display_data",
          "data": {
            "text/plain": [
              "<IPython.core.display.HTML object>"
            ],
            "text/html": [
              "\n",
              "  <style>\n",
              "    pre {\n",
              "        white-space: pre-wrap;\n",
              "    }\n",
              "  </style>\n",
              "  "
            ]
          },
          "metadata": {}
        },
        {
          "output_type": "display_data",
          "data": {
            "text/plain": [
              "<IPython.core.display.HTML object>"
            ],
            "text/html": [
              "\n",
              "  <style>\n",
              "    pre {\n",
              "        white-space: pre-wrap;\n",
              "    }\n",
              "  </style>\n",
              "  "
            ]
          },
          "metadata": {}
        },
        {
          "output_type": "display_data",
          "data": {
            "text/plain": [
              "<IPython.core.display.HTML object>"
            ],
            "text/html": [
              "\n",
              "  <style>\n",
              "    pre {\n",
              "        white-space: pre-wrap;\n",
              "    }\n",
              "  </style>\n",
              "  "
            ]
          },
          "metadata": {}
        },
        {
          "output_type": "stream",
          "name": "stdout",
          "text": [
            "The best ingredients for cat food are chicken, salmon, tuna, sweet potatoes, carrots, spinach, and turkey. These ingredients provide essential nutrients such as protein, vitamins, and minerals that are important for your cat's overall health and well-being.\n"
          ]
        }
      ]
    },
    {
      "cell_type": "markdown",
      "source": [
        "#Report/Conclusions\n",
        "\n",
        "**Temperature set to 1**\n",
        "With zero-shot, the model provided accurate responses but din't specify formatting and details. The answers were correct but not very informative.\n",
        "\n",
        "When given a simple example (one-shot), it improved in formatting, accuracy, and adapted well to the provided example and delivered more structured response, listing ingredients in a similar format to the example.\n",
        "\n",
        "When given multiple examples, I got the most accurate and well-formatted outputs, with the model providing comprehensive and precise answers.\n",
        "\n",
        "For variation 1, I tested only in a generic way by adding different ingredients and received a broad answer\n",
        "However, on the variations 2 and 3 I added an impostor ingredient which is not recommended for cats so I could see how the model would handle it.\n",
        "\n",
        "On variation 2, I received a structured response, listing ingredients in a similar format to the example. The model identified the correct ingredients and recognized that coffee is not suitable for cats, stating, \"It is important to avoid ingredients like coffee, as it can be toxic to cats.\", which means that the model can distinguish relevant from irrelevant or incorrect inputs.\n",
        "\n",
        "On variation 3, themodel provided a detailed and structured response listing appropriate ingredients but ignored the impostor ingredient (Coffee). The response showed that the model could filter out incorrect information when provided with a comprehensive context.\n",
        "\n",
        "The model didn't hallucinate when trying these examples, and proved that using M-shots significantly enhances the its ability to generate accurate and well-formatted responses. The more examples provided, the better the model performs, reducing errors and improving reliability.\n",
        "\n",
        "\n",
        "**Temperature set to 0**\n",
        "\n",
        "As the model didn't produce any hallucation, with the temperature set to 1, I changed it to 0 to see how it would affect the model.\n",
        "In conclusion, when temperature is 0, the model provides consistent and focused answers, follows the example precisely, and adheres more strictly to the examples, resulting in more reliable outputs.\n",
        "The variations also behave successfully, avoiding the impostor ingredient and incorrect information.\n",
        "It's apparent that using a temperature of 0 significantly enhances the consistency and accuracy of the model's responses."
      ],
      "metadata": {
        "id": "Q6eNMjj3doU5"
      },
      "id": "Q6eNMjj3doU5"
    },
    {
      "cell_type": "code",
      "source": [],
      "metadata": {
        "id": "jCL1nEHpeyoY"
      },
      "id": "jCL1nEHpeyoY",
      "execution_count": null,
      "outputs": []
    }
  ],
  "metadata": {
    "colab": {
      "provenance": [],
      "include_colab_link": true
    },
    "kernelspec": {
      "display_name": "Python 3 (ipykernel)",
      "language": "python",
      "name": "python3"
    },
    "language_info": {
      "codemirror_mode": {
        "name": "ipython",
        "version": 3
      },
      "file_extension": ".py",
      "mimetype": "text/x-python",
      "name": "python",
      "nbconvert_exporter": "python",
      "pygments_lexer": "ipython3",
      "version": "3.11.8"
    }
  },
  "nbformat": 4,
  "nbformat_minor": 5
}